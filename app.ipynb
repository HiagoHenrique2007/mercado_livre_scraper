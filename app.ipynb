{
 "cells": [
  {
   "cell_type": "code",
   "execution_count": 1,
   "metadata": {},
   "outputs": [
    {
     "name": "stderr",
     "output_type": "stream",
     "text": [
      "2025-03-20 16:37:35,855 - INFO - Tree da url: https://www.mercadolivre.com.br/ - obtido!\n",
      "2025-03-20 16:37:36,483 - INFO - Tree da url: https://www.mercadolivre.com.br/ - obtido!\n"
     ]
    },
    {
     "data": {
      "text/plain": [
       "{'categories': ['Veículos',\n",
       "  'Supermercado',\n",
       "  'Tecnologia',\n",
       "  'Casa e Móveis',\n",
       "  'Eletrodomésticos',\n",
       "  'Esportes e Fitness',\n",
       "  'Ferramentas',\n",
       "  'Construção',\n",
       "  'Indústria e Comércio',\n",
       "  'Pet Shop',\n",
       "  'Saúde',\n",
       "  'Acessórios para Veículos',\n",
       "  'Beleza e Cuidado Pessoal',\n",
       "  'Moda',\n",
       "  'Bebês',\n",
       "  'Brinquedos',\n",
       "  'Imóveis',\n",
       "  'Compra Internacional',\n",
       "  'Produtos Sustentaveis',\n",
       "  'Mais vendidos'],\n",
       " 'links': ['https://www.mercadolivre.com.br/veiculos/#menu=categories',\n",
       "  'https://www.mercadolivre.com.br/ofertas/supermercado#menu=categories',\n",
       "  '#/',\n",
       "  'https://www.mercadolivre.com.br/c/casa-moveis-e-decoracao#menu=categories',\n",
       "  'https://www.mercadolivre.com.br/c/eletrodomesticos#menu=categories',\n",
       "  'https://www.mercadolivre.com.br/c/esportes-e-fitness#menu=categories',\n",
       "  'https://www.mercadolivre.com.br/c/ferramentas#menu=categories',\n",
       "  'https://www.mercadolivre.com.br/c/construcao#menu=categories',\n",
       "  'https://www.mercadolivre.com.br/c/industria-e-comercio#menu=categories',\n",
       "  'https://www.mercadolivre.com.br/c/animais#menu=categories',\n",
       "  'https://www.mercadolivre.com.br/c/saude#menu=categories',\n",
       "  'https://www.mercadolivre.com.br/c/acessorios-para-veiculos#menu=categories',\n",
       "  'https://www.mercadolivre.com.br/c/beleza-e-cuidado-pessoal#menu=categories',\n",
       "  'https://www.mercadolivre.com.br/c/calcados-roupas-e-bolsas#menu=categories',\n",
       "  'https://www.mercadolivre.com.br/c/bebes#menu=categories',\n",
       "  'https://www.mercadolivre.com.br/c/brinquedos-e-hobbies#menu=categories',\n",
       "  'https://www.mercadolivre.com.br/imoveis/#menu=categories',\n",
       "  'https://www.mercadolivre.com.br/importados/compra-internacional#menu=categories',\n",
       "  'https://www.mercadolivre.com.br/produtos-sustentaveis#menu=categories',\n",
       "  'https://www.mercadolivre.com.br/mais-vendidos#menu=categories']}"
      ]
     },
     "execution_count": 1,
     "metadata": {},
     "output_type": "execute_result"
    }
   ],
   "source": [
    "from utils.scraper import Scraper\n",
    "scraper = Scraper()\n",
    "scraper.categories\n"
   ]
  },
  {
   "cell_type": "code",
   "execution_count": null,
   "metadata": {},
   "outputs": [],
   "source": [
    "products_list = [\n",
    "  'https://www.mercadolivre.com.br/celular-samsung-galaxy-m35-5g-cmera-tripla-ate-50mp-selfie-50mp-tela-super-amoled-66-120hz-256gb-8gb-ram-azul-claro/p/MLB37105949#polycard_client=recommendations_home_navigation-trend-recommendations&reco_backend=machinalis-homes-univb&wid=MLB3709390037&reco_client=home_navigation-trend-recommendations&reco_item_pos=1&reco_backend_type=function&reco_id=9e91bfad-dbf0-44a7-b465-c39b176d5991&sid=recos&c_id=/home/navigation-trend-recommendations/element&c_uid=24e4e06d-e1d8-4d7d-aede-ac6643ea3fb0',\n",
    "  'https://produto.mercadolivre.com.br/MLB-5134246602-fone-xiaomi-redimir-14c-8gb-ram-256gb-rlg-nota-fiscal-_JM#polycard_client=recommendations_home_navigation-related-recommendations&reco_backend=odin-p2p&reco_client=home_navigation-related-recommendations&reco_item_pos=2&reco_backend_type=function&reco_id=02fec6d1-6669-4bc2-89de-cc6ea191c7de&c_id=/home/navigation-related-recommendations/element&c_uid=cde16b83-7c3a-4446-b769-6a5d6c903398',\n",
    "  'https://produto.mercadolivre.com.br/MLB-2098896916-par-alianca-anatmica-prata-4mm-diamantada-de-namoro-anel-_JM#polycard_client=recommendations_home_personalization-fourth-trend-function-recommendations&reco_backend=personalization_fourth_trend&reco_client=home_personalization-fourth-trend-function-recommendations&reco_item_pos=2&reco_backend_type=function&reco_id=787e9397-f6e0-4d6e-a4e8-a64878178342&c_id=/home/fourth-trend-recommendations/element&c_uid=11ae3319-53c8-42dd-bdb0-246b832a72ba'\n",
    "]\n",
    "\n",
    "products_data = scraper.scrapeProducts(products_list)\n",
    "products_data"
   ]
  },
  {
   "cell_type": "code",
   "execution_count": null,
   "metadata": {},
   "outputs": [],
   "source": [
    "url = 'https://www.mercadolivre.com.br/notebook-samsung-galaxy-book4-intel-u300-120-ghz-ate-44ghz-8-mb-l3-cache-windows-11-home-8gb-256gb-ssd-uhd-graphics-156-full-hd-led-155kg/p/MLB40347107?pdp_filters=deal:MLB1243049-1#wid=MLB5194930972&sid=search&searchVariation=MLB40347107&position=2&search_layout=grid&type=product&tracking_id=69d2dab5-65a2-438d-8979-3098fac22af6&DEAL_ID=MLB1243049-1&S=landingHubdia-do-consumidor&V=32&T=CarouselDynamic-home&L=MAIS-VENDIDOS-DA-SEMANA-DO-CONSUMIDOR-%F0%9F%94%A5&deal_print_id=ca75da10-01cd-11f0-a35c-73186f1ee368&c_id=carouseldynamic-home&c_element_order=undefined&c_campaign=MAIS-VENDIDOS-DA-SEMANA-DO-CONSUMIDOR-%F0%9F%94%A5&c_uid=ca75da10-01cd-11f0-a35c-73186f1ee368'\n",
    "product = scraper.scrapeProduct(url)\n",
    "product"
   ]
  },
  {
   "cell_type": "code",
   "execution_count": null,
   "metadata": {},
   "outputs": [],
   "source": [
    "url = 'https://www.mercadolivre.com.br/notebook-samsung-galaxy-book4-intel-u300-120-ghz-ate-44ghz-8-mb-l3-cache-windows-11-home-8gb-256gb-ssd-uhd-graphics-156-full-hd-led-155kg/p/MLB40347107?pdp_filters=deal:MLB1243049-1#wid=MLB5194930972&sid=search&searchVariation=MLB40347107&position=2&search_layout=grid&type=product&tracking_id=69d2dab5-65a2-438d-8979-3098fac22af6&DEAL_ID=MLB1243049-1&S=landingHubdia-do-consumidor&V=32&T=CarouselDynamic-home&L=MAIS-VENDIDOS-DA-SEMANA-DO-CONSUMIDOR-%F0%9F%94%A5&deal_print_id=ca75da10-01cd-11f0-a35c-73186f1ee368&c_id=carouseldynamic-home&c_element_order=undefined&c_campaign=MAIS-VENDIDOS-DA-SEMANA-DO-CONSUMIDOR-%F0%9F%94%A5&c_uid=ca75da10-01cd-11f0-a35c-73186f1ee368'\n",
    "product = scraper.scrapeProduct(url)\n",
    "product"
   ]
  },
  {
   "cell_type": "code",
   "execution_count": null,
   "metadata": {},
   "outputs": [],
   "source": []
  },
  {
   "cell_type": "code",
   "execution_count": 5,
   "metadata": {},
   "outputs": [
    {
     "name": "stderr",
     "output_type": "stream",
     "text": [
      "2025-03-20 16:19:17,463 - INFO - Tree da url: https://www.mercadolivre.com.br/notebook-samsung-galaxy-book4-intel-u300-120-ghz-ate-44ghz-8-mb-l3-cache-windows-11-home-8gb-256gb-ssd-uhd-graphics-156-full-hd-led-155kg/p/MLB40347107?pdp_filters=deal:MLB1243049-1#wid=MLB5194930972&sid=search&searchVariation=MLB40347107&position=2&search_layout=grid&type=product&tracking_id=69d2dab5-65a2-438d-8979-3098fac22af6&DEAL_ID=MLB1243049-1&S=landingHubdia-do-consumidor&V=32&T=CarouselDynamic-home&L=MAIS-VENDIDOS-DA-SEMANA-DO-CONSUMIDOR-%F0%9F%94%A5&deal_print_id=ca75da10-01cd-11f0-a35c-73186f1ee368&c_id=carouseldynamic-home&c_element_order=undefined&c_campaign=MAIS-VENDIDOS-DA-SEMANA-DO-CONSUMIDOR-%F0%9F%94%A5&c_uid=ca75da10-01cd-11f0-a35c-73186f1ee368 - obtido!\n"
     ]
    },
    {
     "name": "stdout",
     "output_type": "stream",
     "text": [
      "['https://http2.mlstatic.com/D_NQ_NP_876091-MLU78776215826_092024-O.webp']\n"
     ]
    }
   ],
   "source": [
    "url = 'https://www.mercadolivre.com.br/notebook-samsung-galaxy-book4-intel-u300-120-ghz-ate-44ghz-8-mb-l3-cache-windows-11-home-8gb-256gb-ssd-uhd-graphics-156-full-hd-led-155kg/p/MLB40347107?pdp_filters=deal:MLB1243049-1#wid=MLB5194930972&sid=search&searchVariation=MLB40347107&position=2&search_layout=grid&type=product&tracking_id=69d2dab5-65a2-438d-8979-3098fac22af6&DEAL_ID=MLB1243049-1&S=landingHubdia-do-consumidor&V=32&T=CarouselDynamic-home&L=MAIS-VENDIDOS-DA-SEMANA-DO-CONSUMIDOR-%F0%9F%94%A5&deal_print_id=ca75da10-01cd-11f0-a35c-73186f1ee368&c_id=carouseldynamic-home&c_element_order=undefined&c_campaign=MAIS-VENDIDOS-DA-SEMANA-DO-CONSUMIDOR-%F0%9F%94%A5&c_uid=ca75da10-01cd-11f0-a35c-73186f1ee368'\n",
    "tree = scraper.getTree(url)\n",
    "if tree is not None:\n",
    "  imgs = tree.xpath(\"//figure[ contains(@class, 'ui-pdp-gallery__figure') ]/img[ contains(@class, 'ui-pdp-image ') and contains(@class, 'ui-pdp-gallery__figure__image') and not(contains(@src, 'data:image/gif')) ]/@src\")\n",
    "  print(imgs)"
   ]
  },
  {
   "cell_type": "code",
   "execution_count": 6,
   "metadata": {},
   "outputs": [
    {
     "data": {
      "text/plain": [
       "['Veículos',\n",
       " 'Supermercado',\n",
       " 'Tecnologia',\n",
       " 'Casa e Móveis',\n",
       " 'Eletrodomésticos',\n",
       " 'Esportes e Fitness',\n",
       " 'Ferramentas',\n",
       " 'Construção',\n",
       " 'Indústria e Comércio',\n",
       " 'Pet Shop',\n",
       " 'Saúde',\n",
       " 'Acessórios para Veículos',\n",
       " 'Beleza e Cuidado Pessoal',\n",
       " 'Moda',\n",
       " 'Bebês',\n",
       " 'Brinquedos',\n",
       " 'Imóveis',\n",
       " 'Compra Internacional',\n",
       " 'Produtos Sustentaveis',\n",
       " 'Mais vendidos',\n",
       " 'Lojas oficiais']"
      ]
     },
     "execution_count": 6,
     "metadata": {},
     "output_type": "execute_result"
    }
   ],
   "source": [
    "scraper.categories"
   ]
  },
  {
   "cell_type": "code",
   "execution_count": null,
   "metadata": {},
   "outputs": [],
   "source": [
    "products_list = [\n",
    "  'https://www.mercadolivre.com.br/celular-samsung-galaxy-m35-5g-cmera-tripla-ate-50mp-selfie-50mp-tela-super-amoled-66-120hz-256gb-8gb-ram-azul-claro/p/MLB37105949#polycard_client=recommendations_home_navigation-trend-recommendations&reco_backend=machinalis-homes-univb&wid=MLB3709390037&reco_client=home_navigation-trend-recommendations&reco_item_pos=1&reco_backend_type=function&reco_id=9e91bfad-dbf0-44a7-b465-c39b176d5991&sid=recos&c_id=/home/navigation-trend-recommendations/element&c_uid=24e4e06d-e1d8-4d7d-aede-ac6643ea3fb0',\n",
    "  'https://produto.mercadolivre.com.br/MLB-5134246602-fone-xiaomi-redimir-14c-8gb-ram-256gb-rlg-nota-fiscal-_JM#polycard_client=recommendations_home_navigation-related-recommendations&reco_backend=odin-p2p&reco_client=home_navigation-related-recommendations&reco_item_pos=2&reco_backend_type=function&reco_id=02fec6d1-6669-4bc2-89de-cc6ea191c7de&c_id=/home/navigation-related-recommendations/element&c_uid=cde16b83-7c3a-4446-b769-6a5d6c903398',\n",
    "  'https://produto.mercadolivre.com.br/MLB-2098896916-par-alianca-anatmica-prata-4mm-diamantada-de-namoro-anel-_JM#polycard_client=recommendations_home_personalization-fourth-trend-function-recommendations&reco_backend=personalization_fourth_trend&reco_client=home_personalization-fourth-trend-function-recommendations&reco_item_pos=2&reco_backend_type=function&reco_id=787e9397-f6e0-4d6e-a4e8-a64878178342&c_id=/home/fourth-trend-recommendations/element&c_uid=11ae3319-53c8-42dd-bdb0-246b832a72ba'\n",
    "]\n",
    "\n",
    "rating = [ scraper.getRating(url=url) for url in products_list ]\n",
    "rating"
   ]
  },
  {
   "cell_type": "markdown",
   "metadata": {},
   "source": [
    "### **Raspar links de produtos**"
   ]
  },
  {
   "cell_type": "code",
   "execution_count": null,
   "metadata": {},
   "outputs": [],
   "source": [
    "urls = [\n",
    "  'https://www.mercadolivre.com.br/mais-vendidos/MLB1144#origin=home',\n",
    "]\n",
    "\n",
    "products_links = [ scraper.scrapeProductsLinks(url) for url in urls ]\n",
    "\n",
    "prices = []\n",
    "ratings = []\n",
    "for links in products_links:\n",
    "  for link in links:\n",
    "    price = scraper.getPrice(url=link)\n",
    "    rating = scraper.getRating(url=link)\n",
    "    prices.append(price)\n",
    "    ratings.append(rating)\n",
    "\n",
    "prices, rating"
   ]
  }
 ],
 "metadata": {
  "kernelspec": {
   "display_name": "top-10-per-category-ml-a1M3fyEI-py3.13",
   "language": "python",
   "name": "python3"
  },
  "language_info": {
   "codemirror_mode": {
    "name": "ipython",
    "version": 3
   },
   "file_extension": ".py",
   "mimetype": "text/x-python",
   "name": "python",
   "nbconvert_exporter": "python",
   "pygments_lexer": "ipython3",
   "version": "3.13.2"
  }
 },
 "nbformat": 4,
 "nbformat_minor": 2
}
