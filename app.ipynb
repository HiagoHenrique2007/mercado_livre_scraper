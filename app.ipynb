{
 "cells": [
  {
   "cell_type": "code",
   "execution_count": 1,
   "metadata": {},
   "outputs": [
    {
     "name": "stderr",
     "output_type": "stream",
     "text": [
      "2025-03-16 20:36:15,257 - INFO - Tree da url: https://www.mercadolivre.com.br/ - obtido!\n",
      "2025-03-16 20:36:15,850 - INFO - Tree da url: https://www.mercadolivre.com.br/ - obtido!\n"
     ]
    },
    {
     "data": {
      "text/plain": [
       "['Veículos',\n",
       " 'Supermercado',\n",
       " 'Tecnologia',\n",
       " 'Casa e Móveis',\n",
       " 'Eletrodomésticos',\n",
       " 'Esportes e Fitness',\n",
       " 'Ferramentas',\n",
       " 'Construção',\n",
       " 'Indústria e Comércio',\n",
       " 'Pet Shop',\n",
       " 'Saúde',\n",
       " 'Acessórios para Veículos',\n",
       " 'Beleza e Cuidado Pessoal',\n",
       " 'Moda',\n",
       " 'Bebês',\n",
       " 'Brinquedos',\n",
       " 'Imóveis',\n",
       " 'Compra Internacional',\n",
       " 'Produtos Sustentaveis',\n",
       " 'Mais vendidos',\n",
       " 'Lojas oficiais']"
      ]
     },
     "execution_count": 1,
     "metadata": {},
     "output_type": "execute_result"
    }
   ],
   "source": [
    "from utils.scraper import Scraper\n",
    "scraper = Scraper()\n",
    "scraper.categories\n"
   ]
  },
  {
   "cell_type": "code",
   "execution_count": 3,
   "metadata": {},
   "outputs": [
    {
     "name": "stderr",
     "output_type": "stream",
     "text": [
      "2025-03-16 16:37:08,965 - INFO - Tree da url: https://www.mercadolivre.com.br/celular-samsung-galaxy-m35-5g-cmera-tripla-ate-50mp-selfie-50mp-tela-super-amoled-66-120hz-256gb-8gb-ram-azul-claro/p/MLB37105949#polycard_client=recommendations_home_navigation-trend-recommendations&reco_backend=machinalis-homes-univb&wid=MLB3709390037&reco_client=home_navigation-trend-recommendations&reco_item_pos=1&reco_backend_type=function&reco_id=9e91bfad-dbf0-44a7-b465-c39b176d5991&sid=recos&c_id=/home/navigation-trend-recommendations/element&c_uid=24e4e06d-e1d8-4d7d-aede-ac6643ea3fb0 - obtido!\n",
      "2025-03-16 16:37:08,996 - INFO - Dados do produto: https://www.mercadolivre.com.br/celular-samsung-galaxy-m35-5g-cmera-tripla-ate-50mp-selfie-50mp-tela-super-amoled-66-120hz-256gb-8gb-ram-azul-claro/p/MLB37105949#polycard_client=recommendations_home_navigation-trend-recommendations&reco_backend=machinalis-homes-univb&wid=MLB3709390037&reco_client=home_navigation-trend-recommendations&reco_item_pos=1&reco_backend_type=function&reco_id=9e91bfad-dbf0-44a7-b465-c39b176d5991&sid=recos&c_id=/home/navigation-trend-recommendations/element&c_uid=24e4e06d-e1d8-4d7d-aede-ac6643ea3fb0 - obtidos!\n",
      "2025-03-16 16:37:09,630 - INFO - Tree da url: https://produto.mercadolivre.com.br/MLB-5134246602-fone-xiaomi-redimir-14c-8gb-ram-256gb-rlg-nota-fiscal-_JM#polycard_client=recommendations_home_navigation-related-recommendations&reco_backend=odin-p2p&reco_client=home_navigation-related-recommendations&reco_item_pos=2&reco_backend_type=function&reco_id=02fec6d1-6669-4bc2-89de-cc6ea191c7de&c_id=/home/navigation-related-recommendations/element&c_uid=cde16b83-7c3a-4446-b769-6a5d6c903398 - obtido!\n",
      "2025-03-16 16:37:09,654 - INFO - Dados do produto: https://produto.mercadolivre.com.br/MLB-5134246602-fone-xiaomi-redimir-14c-8gb-ram-256gb-rlg-nota-fiscal-_JM#polycard_client=recommendations_home_navigation-related-recommendations&reco_backend=odin-p2p&reco_client=home_navigation-related-recommendations&reco_item_pos=2&reco_backend_type=function&reco_id=02fec6d1-6669-4bc2-89de-cc6ea191c7de&c_id=/home/navigation-related-recommendations/element&c_uid=cde16b83-7c3a-4446-b769-6a5d6c903398 - obtidos!\n",
      "2025-03-16 16:37:10,293 - INFO - Tree da url: https://produto.mercadolivre.com.br/MLB-2098896916-par-alianca-anatmica-prata-4mm-diamantada-de-namoro-anel-_JM#polycard_client=recommendations_home_personalization-fourth-trend-function-recommendations&reco_backend=personalization_fourth_trend&reco_client=home_personalization-fourth-trend-function-recommendations&reco_item_pos=2&reco_backend_type=function&reco_id=787e9397-f6e0-4d6e-a4e8-a64878178342&c_id=/home/fourth-trend-recommendations/element&c_uid=11ae3319-53c8-42dd-bdb0-246b832a72ba - obtido!\n",
      "2025-03-16 16:37:10,321 - INFO - Dados do produto: https://produto.mercadolivre.com.br/MLB-2098896916-par-alianca-anatmica-prata-4mm-diamantada-de-namoro-anel-_JM#polycard_client=recommendations_home_personalization-fourth-trend-function-recommendations&reco_backend=personalization_fourth_trend&reco_client=home_personalization-fourth-trend-function-recommendations&reco_item_pos=2&reco_backend_type=function&reco_id=787e9397-f6e0-4d6e-a4e8-a64878178342&c_id=/home/fourth-trend-recommendations/element&c_uid=11ae3319-53c8-42dd-bdb0-246b832a72ba - obtidos!\n"
     ]
    },
    {
     "data": {
      "text/plain": [
       "[{'product_name': 'Celular Samsung Galaxy M35 5g , Câmera Tripla Até 50mp, Selfie 50mp, Tela Super Amoled + 6.6 120hz, 256gb, 8gb Ram - Azul Claro',\n",
       "  'price': 1469.0,\n",
       "  'rating': 4.8,\n",
       "  'description': ['Celular Samsung Galaxy M35 5G , Câmera Tripla até 50MP, Selfie 50MP, Tela Super AMOLED + 6.6 120Hz, 256GB, 8GB RAM',\n",
       "   'Câmera Tripla de até 50MP, Selfie de 13 MP;',\n",
       "   'Tela Super AMOLED FHD+ de 6.6\" com Vision Booster;',\n",
       "   'Cadeado Galaxy;',\n",
       "   'Segurança adicional com Samsung Knox;',\n",
       "   'Bateria de longa duração e carregamento rápido de até 25W;',\n",
       "   'Smart Switch: Migre facilmente os dados do seu telefone antigo;',\n",
       "   'Carregador de 25W vendido separadamente;',\n",
       "   'Desempenho e velocidade aprimorados para você fazer mais',\n",
       "   'Jogue, assista às suas séries favoritas por streaming e compartilhe postagens com o Galaxy M35 5G. Seu processador e gráficos avançados, combinados com um poderoso NPU e um sistema de resfriamento eficiente, asseguram um desempenho suave. Além disso, a conexão Wi-Fi 6 rápida e estável permite que você conclua tarefas rapidamente.',\n",
       "   'Sinta o ritmo ',\n",
       "   'Com o Galaxy M35 5G, você desfrutará de um som nítido e dinâmico ao ouvir música ou assistir a filmes. Seus alto-falantes estéreo, aprimorados com Dolby Atmos, oferecem áudio com sofisticação e detalhes para uma experiência sonora imersiva.',\n",
       "   'Confiança no Samsung Knox Vault',\n",
       "   'Com certificação EAL5+, o Samsung Knox Vault foi criado para proteger seus dados confidenciais, como PINs, senhas e padrões, em um armazenamento separado resistente a adulterações para proteção contra ameaças de software e hardware envolvendo tensão, falhas, alta temperatura e laser.',\n",
       "   'Acesso seguro na ponta dos dedos',\n",
       "   'Destravar é muito fácil com o sensor de impressão digital lateral. Ele oferece uma verificação confiável com um único toque e permite que você defina atalhos de toque duplo para sua câmera ou outros aplicativos usados com frequência.',\n",
       "   'Fique sempre ligado e conectado.',\n",
       "   'Aproveite mais do que você adora sem se preocupar com a vida útil da bateria: a bateria de 6.000 mAh mantém o Galaxy M35 5G ligado por mais tempo com uma única carga. E com o Super Fast Charging, ele volta à ação rapidamente.']},\n",
       " {'product_name': 'Fone Xiaomi+ Redimir 14c 8gb Ram 256gb +rLG+ Nota Fiscal',\n",
       "  'price': 1214.48,\n",
       "  'rating': 4.5,\n",
       "  'description': ['Atenção.',\n",
       "   'Não enviamos para os seguintes estados, se comprar vamos cancelar:',\n",
       "   '• Bahia',\n",
       "   '• Pernambuco',\n",
       "   '• Paraíba',\n",
       "   '• Rio Grande Do Norte',\n",
       "   '• Rio Grande Do Sul',\n",
       "   '• Ceará',\n",
       "   '• Maranhão',\n",
       "   '• Alagoas',\n",
       "   'Redmi 14C Lançamento 2024 256 ROM 8 RAM Expansível a 16Gb RAM.',\n",
       "   'Brindes: Fone sem fio bluetooth, compatível com o aparelho e Relogio Inteligente Smartwatch D20. Obs. Brindes não tem GARANTIA.',\n",
       "   'Atenção.',\n",
       "   'Por motivos de logísticas não estamos enviando para os seguintes estados no momento:',\n",
       "   '• Bahia',\n",
       "   '• Pernambuco',\n",
       "   '• Paraíba',\n",
       "   '• Rio Grande Do Norte',\n",
       "   '• Rio Grande Do Sul',\n",
       "   '• Ceará',\n",
       "   '• Maranhão',\n",
       "   '• Alagoas',\n",
       "   'Sobre o produto:',\n",
       "   '• Processador',\n",
       "   'MediaTek Helio G81-Ultra',\n",
       "   'CPU: Cortex-A75+Cortex-A55',\n",
       "   'Frequência máxima da CPU: 2,0 GHz',\n",
       "   'GPU: Mali-G52 MC2',\n",
       "   '• Armazenamento e RAM',\n",
       "   '8 GB + 256 GB LPDDR4X + eMMC 5.1',\n",
       "   'Suporta extensão de memória: até 16 GB',\n",
       "   '*As configurações disponíveis podem diferir entre diferentes regiões. A RAM e o armazenamento disponíveis são menores que a memória total devido ao armazenamento do sistema operacional e do software pré-instalados no dispositivo.',\n",
       "   '*16 GB de RAM com extensão de memória é baseado na versão de 8 GB de RAM. RAM adicional ocupará uma quantidade correspondente de armazenamento de ROM. A extensão de memória só está disponível quando há espaço de armazenamento suficiente no seu dispositivo. A extensão real da capacidade de armazenamento de RAM varia entre os diferentes modelos.',\n",
       "   '• Dimensões',\n",
       "   'Altura: 171,88 mm',\n",
       "   'Largura: 77,8 mm',\n",
       "   'Espessura: 8,22 mm',\n",
       "   'Peso: Preto meia-noite, Roxo sonhador: 211g, Azul estrelado: 204g, Verde salva: 207g',\n",
       "   '*Dados obtidos do Xiaomi Internal Labs. Os métodos de medição da indústria podem variar e, portanto, os resultados reais podem ser diferentes.',\n",
       "   '• Mostrar',\n",
       "   'Tela Dot Drop de 6,88\"',\n",
       "   '1640*720, 260 ppi',\n",
       "   'Taxa de contraste: 1500:1',\n",
       "   'Profundidade de cor: 8 bits, 16,7 milhões de cores',\n",
       "   'Gama de cores: 70% NTSC',\n",
       "   'Brilho: 450 nits (típico), 600 nits HBM',\n",
       "   'Taxa de atualização: até 120 Hz',\n",
       "   'Taxa de amostragem de toque: até 240 Hz',\n",
       "   'Suporta modo de leitura',\n",
       "   'TÜV Rheinland Low Blue Light (solução de software)',\n",
       "   'TÜV Rheinland sem cintilação',\n",
       "   'Escurecimento DC',\n",
       "   'Proporção tela-corpo: 89,7% (AA/CG)',\n",
       "   '• Câmera Traseira',\n",
       "   'Câmera principal de 50 MP',\n",
       "   'Lente 5P, f/1.8',\n",
       "   'Lente auxiliar',\n",
       "   'câmera de filme | Modo HDR | Modo noturno',\n",
       "   'Modo retrato | Modo 50MP | Lapso de tempo',\n",
       "   'Gravação de vídeo da câmera traseira',\n",
       "   '1080P 1920x1080 30 fps720P 1280x720 30 fps',\n",
       "   '• Câmera Frontal',\n",
       "   'Câmera frontal de 13 MPf/2.0',\n",
       "   'câmera de filme | Modo HDR | Anel de luz suave',\n",
       "   'Modo retrato | Lapso de tempo | Modo noturno',\n",
       "   'Gravação de vídeo da câmera frontal',\n",
       "   'Gravação de vídeo HD 1080p (1920x1080) a 30 fps',\n",
       "   'Gravação de vídeo HD 720p (1280x720) a 30 fps',\n",
       "   '• Bateria e carregamento',\n",
       "   '5160mAh (típico)Suporta carregamento rápido de 18 W',\n",
       "   '*Nenhum adaptador de energia está incluso na caixa. Recomendado usar um adaptador de energia de 18 W que suporte carregamento PD.USB Tipo C',\n",
       "   '• Segurança',\n",
       "   'Sensor de impressão digital lateral',\n",
       "   'Desbloqueio facial por IA',\n",
       "   '• Rede e Conectividade',\n",
       "   'Bandas de rede:Suporta 4G/3G/2G',\n",
       "   '2G: GSM:2/3/5/8',\n",
       "   '3G: WCDMA:1/5/8',\n",
       "   '4G: LTE FDD: 1/3/5/7/8/20/28',\n",
       "   '4G: LTE TDD: 38/40/41',\n",
       "   '*A conectividade e as bandas de rede podem variar de acordo com a disponibilidade da região e o suporte da operadora local.',\n",
       "   'Redes sem fio: Wi-Fi: 2,4 GHz | 5 GHz',\n",
       "   'Suporta rádio FM (com entrada para fone de ouvido)Bluetooth 5.4',\n",
       "   'Suporta AAC / SBC / LDAC',\n",
       "   '• Navegação e Posicionamento',\n",
       "   'GPS | Glonass | Galileo | Beidou',\n",
       "   '• Áudio',\n",
       "   'Conector de fone de ouvido de 3,5 mm',\n",
       "   '• Reprodução de áudio',\n",
       "   'aac, m4a, mp4, 3gp, ts, amr, awb, mid, midi, smf, rttf, xmf, rtx, ota, imy, mp3, ogg, oga, wav, flac, mkv (opus), m4a',\n",
       "   '• Reprodução de vídeo',\n",
       "   'adf,ts,mp4, 3gp,mkv,webm, MPEG2,H.263,MPEG4,H.264,H.265,VP8,VP9,VC1,AV1',\n",
       "   '• Sensores',\n",
       "   'Sensor de proximidade virtual | Sensor de luz ambiente | Acelerômetro | Bússola eletrônica',\n",
       "   '• Sistema operacional',\n",
       "   'Xiaomi HyperOS',\n",
       "   '*A disponibilidade dos recursos, aplicativos e serviços do Xiaomi HyperOS pode variar dependendo da versão do software e do modelo do telefone.',\n",
       "   '• Conteúdo da embalagem',\n",
       "   'Redmi 14C/ Cabo USB Tipo C/ Guia de Início Rápido e Cartão de Garantia/ Ferramenta de Ejeção do SIM/ Informações de Segurança.',\n",
       "   'Garantia do vendedor: 3 meses']},\n",
       " {'product_name': 'Par Aliança Anatômica Prata 4mm Diamantada De Namoro + Anel',\n",
       "  'price': 79.0,\n",
       "  'rating': 4.6,\n",
       "  'description': ['ESPERAMOS SUPERAR SUAS EXPECTATIVAS !!!',\n",
       "   '\\xa0',\n",
       "   'PERGUNTAS FREQUENTES',\n",
       "   '\\xa0',\n",
       "   '* Quantidade 1 corresponde a um par (dois anéis) de Alianças. (Anel Solitário de Brinde)',\n",
       "   '* Não fazemos gravação.',\n",
       "   '* Se não sabe o tamanho da sua aliança, veja na imagem disponível no anuncio.',\n",
       "   '* Acompanha caixinha de veludo tradicional quadrada vermelha.',\n",
       "   '* As Alianças podem ser trocadas normalmente caso não sirva.',\n",
       "   '\\xa0',\n",
       "   '\\xa0',\n",
       "   '\\xa0',\n",
       "   'ALIANÇA PERFEITA PARA ETERNIZAR MOMENTOS',\n",
       "   '\\xa0',\n",
       "   'Par de aliança de namoro Aço Inoxidável',\n",
       "   '\\xa0',\n",
       "   'Perfeitas para: Compromisso\\\\Namoro\\\\Noivado.',\n",
       "   '\\xa0',\n",
       "   'As Alianças de aço Inox são uma ótima escolha no quesito custo X beneficio, pela alta qualidade que o produto possui e baixo custo, além de possuir uma alta durabilidade.',\n",
       "   '\\xa0',\n",
       "   'Nossas alianças são de Aço Inox 316L é uma ótima escolha por ser hipoalérgico ou seja não causa alergia, e também não escurece o dedo como a prata. Possui resistência a corrosão e oxidação, não enferruja, não risca nem amassa, e o brilho permanece.',\n",
       "   '\\xa0',\n",
       "   '\\xa0',\n",
       "   '\\xa0',\n",
       "   'CARACTERÍSTICAS',\n",
       "   '\\xa0',\n",
       "   'Material: Aço Inox 316L',\n",
       "   'Formato interno Masculina: Anatômica confortável',\n",
       "   'Formato interno Feminina: Anatômica confortável',\n",
       "   'Formato externo: Reta',\n",
       "   'Acabamento: Diamantada 4MM Fina',\n",
       "   'Largura: 4mm',\n",
       "   'Tamanhos Femininas: 14 ao 26 (tamanho padrão de joalheria)',\n",
       "   'Tamanhos Masculina: 14 ao 33 (tamanho padrão de joalheria)',\n",
       "   'Estilo: Compromisso; Namoro; Noivado; Casamento',\n",
       "   'Valor: Referente ao par',\n",
       "   'Acompanha caixinha de veludo',\n",
       "   '\\xa0',\n",
       "   'Enviamos no mesmo dia para compras com pagamentos confirmados até as 15h50.']}]"
      ]
     },
     "execution_count": 3,
     "metadata": {},
     "output_type": "execute_result"
    }
   ],
   "source": [
    "products_list = [\n",
    "  'https://www.mercadolivre.com.br/celular-samsung-galaxy-m35-5g-cmera-tripla-ate-50mp-selfie-50mp-tela-super-amoled-66-120hz-256gb-8gb-ram-azul-claro/p/MLB37105949#polycard_client=recommendations_home_navigation-trend-recommendations&reco_backend=machinalis-homes-univb&wid=MLB3709390037&reco_client=home_navigation-trend-recommendations&reco_item_pos=1&reco_backend_type=function&reco_id=9e91bfad-dbf0-44a7-b465-c39b176d5991&sid=recos&c_id=/home/navigation-trend-recommendations/element&c_uid=24e4e06d-e1d8-4d7d-aede-ac6643ea3fb0',\n",
    "  'https://produto.mercadolivre.com.br/MLB-5134246602-fone-xiaomi-redimir-14c-8gb-ram-256gb-rlg-nota-fiscal-_JM#polycard_client=recommendations_home_navigation-related-recommendations&reco_backend=odin-p2p&reco_client=home_navigation-related-recommendations&reco_item_pos=2&reco_backend_type=function&reco_id=02fec6d1-6669-4bc2-89de-cc6ea191c7de&c_id=/home/navigation-related-recommendations/element&c_uid=cde16b83-7c3a-4446-b769-6a5d6c903398',\n",
    "  'https://produto.mercadolivre.com.br/MLB-2098896916-par-alianca-anatmica-prata-4mm-diamantada-de-namoro-anel-_JM#polycard_client=recommendations_home_personalization-fourth-trend-function-recommendations&reco_backend=personalization_fourth_trend&reco_client=home_personalization-fourth-trend-function-recommendations&reco_item_pos=2&reco_backend_type=function&reco_id=787e9397-f6e0-4d6e-a4e8-a64878178342&c_id=/home/fourth-trend-recommendations/element&c_uid=11ae3319-53c8-42dd-bdb0-246b832a72ba'\n",
    "]\n",
    "\n",
    "products_data = scraper.scrapeProducts(products_list)\n",
    "products_data"
   ]
  },
  {
   "cell_type": "code",
   "execution_count": 2,
   "metadata": {},
   "outputs": [
    {
     "name": "stderr",
     "output_type": "stream",
     "text": [
      "2025-03-16 20:36:22,122 - INFO - Tree da url: https://www.mercadolivre.com.br/notebook-samsung-galaxy-book4-intel-u300-120-ghz-ate-44ghz-8-mb-l3-cache-windows-11-home-8gb-256gb-ssd-uhd-graphics-156-full-hd-led-155kg/p/MLB40347107?pdp_filters=deal:MLB1243049-1#wid=MLB5194930972&sid=search&searchVariation=MLB40347107&position=2&search_layout=grid&type=product&tracking_id=69d2dab5-65a2-438d-8979-3098fac22af6&DEAL_ID=MLB1243049-1&S=landingHubdia-do-consumidor&V=32&T=CarouselDynamic-home&L=MAIS-VENDIDOS-DA-SEMANA-DO-CONSUMIDOR-%F0%9F%94%A5&deal_print_id=ca75da10-01cd-11f0-a35c-73186f1ee368&c_id=carouseldynamic-home&c_element_order=undefined&c_campaign=MAIS-VENDIDOS-DA-SEMANA-DO-CONSUMIDOR-%F0%9F%94%A5&c_uid=ca75da10-01cd-11f0-a35c-73186f1ee368 - obtido!\n",
      "2025-03-16 20:36:22,163 - INFO - Dados do produto: https://www.mercadolivre.com.br/notebook-samsung-galaxy-book4-intel-u300-120-ghz-ate-44ghz-8-mb-l3-cache-windows-11-home-8gb-256gb-ssd-uhd-graphics-156-full-hd-led-155kg/p/MLB40347107?pdp_filters=deal:MLB1243049-1#wid=MLB5194930972&sid=search&searchVariation=MLB40347107&position=2&search_layout=grid&type=product&tracking_id=69d2dab5-65a2-438d-8979-3098fac22af6&DEAL_ID=MLB1243049-1&S=landingHubdia-do-consumidor&V=32&T=CarouselDynamic-home&L=MAIS-VENDIDOS-DA-SEMANA-DO-CONSUMIDOR-%F0%9F%94%A5&deal_print_id=ca75da10-01cd-11f0-a35c-73186f1ee368&c_id=carouseldynamic-home&c_element_order=undefined&c_campaign=MAIS-VENDIDOS-DA-SEMANA-DO-CONSUMIDOR-%F0%9F%94%A5&c_uid=ca75da10-01cd-11f0-a35c-73186f1ee368 - obtidos!\n"
     ]
    },
    {
     "data": {
      "text/plain": [
       "{'product_name': \"Notebook Samsung Galaxy Book4 Intel® U300 (1.20 Ghz, até 4.4GHz, 8 MB L3 Cache), Windows 11 Home, 8GB, 256GB SSD, UHD Graphics, 15.6'' Full HD LED, 1.55kg\",\n",
       " 'price': 2374.05,\n",
       " 'rating': 4.8,\n",
       " 'description': ['O Galaxy Book4 NP750XGJ-KG7BR tem tela de 15,6 polegadas com resolução Full HD (1920 x 1080 px) e painel do tipo IPS, que não distorce as cores. O chassi é todo construído em metal na cor cinza, com espessura de 1,5 cm e peso de apenas 1,55 kg, oferecendo boa mobilidade para levar a qualquer lugar. O teclado tem layout ABNT2 com teclas numéricas do lado direito, sem retroiluminação. A webcam tem a boa resolução HD (720p), ideal para videoconferências. ',\n",
       "  'A linha Galaxy Book4, da Samsung, oferece um equilíbrio entre preços competitivos e configurações atualizadas para consumidores que procuram notebooks para uso em lazer, estudos e trabalho. O modelo NP750XGJ-KG7BR possui o novo processador Intel Processor U300, memória RAM de 8 GB LPDDR4X e armazenamento em SSD de 256 GB. A GPU integrada é a UHD Graphics Xe G4 (48 EUs). ',\n",
       "  '* Memória RAM: 8 GB',\n",
       "  '* Capacidade de disco SSD: 256 GB',\n",
       "  '* Linha: Galaxy Book4',\n",
       "  '* Linha do processador: Intel Inside ',\n",
       "  '* Marca: Samsung',\n",
       "  '* Marca do processador: Intel',\n",
       "  '* Modelo: NP750XGJ',\n",
       "  '* Modelo alfanumérico: NP750XGJ-KG7BR',\n",
       "  '* Modelo do processador: Intel Inside U300 (1.20 Ghz, até 4.4GHz, 8 MB L3 Cache)',\n",
       "  '* Nome do sistema operacional: Windows',\n",
       "  '* Versão do sistema operacional: 11',\n",
       "  '* Edição do sistema operacional: Home',\n",
       "  '* Espessura de 1,5 cm e peso de apenas 1,55 kg',\n",
       "  '* Rede Ethernet Gigabit Ethernet [10/100/1000]',\n",
       "  '* Bluetooth v5.2',\n",
       "  '* Portas USB: 2x USB 3.2; 2x USB-C',\n",
       "  '* HDMI: HDMI 1.4b',\n",
       "  '* Leitor de Cartões Multimídia MicroSD Card Reader',\n",
       "  '* Fonte Adaptadora 45W USB-C',\n",
       "  '* Bivolt (100-240V)',\n",
       "  '* Teclado Português - BR com Teclado Numérico Integrado',\n",
       "  '* Tamanho da Tela 15.6\" Full HD LED IPS antirreflexiva',\n",
       "  '* Full HD 1920 x 1080',\n",
       "  '* Alto-Falantes 4W Estéreo (2W x 2)',\n",
       "  '* Placa de Rede Wireless 802.11 ax 2x2',\n",
       "  'Conteúdo da Embalagem',\n",
       "  '* 01 computador portátil',\n",
       "  '* 01 fonte adaptadora',\n",
       "  '* Guias de usuário',\n",
       "  '* Certificado de garantia',\n",
       "  'Aviso legal',\n",
       "  '• A duração da bateria depende do uso que se dê ao produto.']}"
      ]
     },
     "execution_count": 2,
     "metadata": {},
     "output_type": "execute_result"
    }
   ],
   "source": [
    "url = 'https://www.mercadolivre.com.br/notebook-samsung-galaxy-book4-intel-u300-120-ghz-ate-44ghz-8-mb-l3-cache-windows-11-home-8gb-256gb-ssd-uhd-graphics-156-full-hd-led-155kg/p/MLB40347107?pdp_filters=deal:MLB1243049-1#wid=MLB5194930972&sid=search&searchVariation=MLB40347107&position=2&search_layout=grid&type=product&tracking_id=69d2dab5-65a2-438d-8979-3098fac22af6&DEAL_ID=MLB1243049-1&S=landingHubdia-do-consumidor&V=32&T=CarouselDynamic-home&L=MAIS-VENDIDOS-DA-SEMANA-DO-CONSUMIDOR-%F0%9F%94%A5&deal_print_id=ca75da10-01cd-11f0-a35c-73186f1ee368&c_id=carouseldynamic-home&c_element_order=undefined&c_campaign=MAIS-VENDIDOS-DA-SEMANA-DO-CONSUMIDOR-%F0%9F%94%A5&c_uid=ca75da10-01cd-11f0-a35c-73186f1ee368'\n",
    "product = scraper.scrapeProduct(url)\n",
    "product"
   ]
  },
  {
   "cell_type": "code",
   "execution_count": 5,
   "metadata": {},
   "outputs": [
    {
     "data": {
      "text/plain": [
       "['Veículos',\n",
       " 'Supermercado',\n",
       " 'Tecnologia',\n",
       " 'Casa e Móveis',\n",
       " 'Eletrodomésticos',\n",
       " 'Esportes e Fitness',\n",
       " 'Ferramentas',\n",
       " 'Construção',\n",
       " 'Indústria e Comércio',\n",
       " 'Pet Shop',\n",
       " 'Saúde',\n",
       " 'Acessórios para Veículos',\n",
       " 'Beleza e Cuidado Pessoal',\n",
       " 'Moda',\n",
       " 'Bebês',\n",
       " 'Brinquedos',\n",
       " 'Imóveis',\n",
       " 'Compra Internacional',\n",
       " 'Produtos Sustentaveis',\n",
       " 'Mais vendidos',\n",
       " 'Lojas oficiais']"
      ]
     },
     "execution_count": 5,
     "metadata": {},
     "output_type": "execute_result"
    }
   ],
   "source": [
    "scraper.categories"
   ]
  },
  {
   "cell_type": "code",
   "execution_count": null,
   "metadata": {},
   "outputs": [
    {
     "name": "stderr",
     "output_type": "stream",
     "text": [
      "2025-03-16 16:37:12,116 - INFO - Tree da url: https://www.mercadolivre.com.br/celular-samsung-galaxy-m35-5g-cmera-tripla-ate-50mp-selfie-50mp-tela-super-amoled-66-120hz-256gb-8gb-ram-azul-claro/p/MLB37105949#polycard_client=recommendations_home_navigation-trend-recommendations&reco_backend=machinalis-homes-univb&wid=MLB3709390037&reco_client=home_navigation-trend-recommendations&reco_item_pos=1&reco_backend_type=function&reco_id=9e91bfad-dbf0-44a7-b465-c39b176d5991&sid=recos&c_id=/home/navigation-trend-recommendations/element&c_uid=24e4e06d-e1d8-4d7d-aede-ac6643ea3fb0 - obtido!\n",
      "2025-03-16 16:37:14,546 - INFO - Tree da url: https://produto.mercadolivre.com.br/MLB-5134246602-fone-xiaomi-redimir-14c-8gb-ram-256gb-rlg-nota-fiscal-_JM#polycard_client=recommendations_home_navigation-related-recommendations&reco_backend=odin-p2p&reco_client=home_navigation-related-recommendations&reco_item_pos=2&reco_backend_type=function&reco_id=02fec6d1-6669-4bc2-89de-cc6ea191c7de&c_id=/home/navigation-related-recommendations/element&c_uid=cde16b83-7c3a-4446-b769-6a5d6c903398 - obtido!\n",
      "2025-03-16 16:37:15,843 - INFO - Tree da url: https://produto.mercadolivre.com.br/MLB-2098896916-par-alianca-anatmica-prata-4mm-diamantada-de-namoro-anel-_JM#polycard_client=recommendations_home_personalization-fourth-trend-function-recommendations&reco_backend=personalization_fourth_trend&reco_client=home_personalization-fourth-trend-function-recommendations&reco_item_pos=2&reco_backend_type=function&reco_id=787e9397-f6e0-4d6e-a4e8-a64878178342&c_id=/home/fourth-trend-recommendations/element&c_uid=11ae3319-53c8-42dd-bdb0-246b832a72ba - obtido!\n"
     ]
    },
    {
     "data": {
      "text/plain": [
       "[4.8, 4.5, 4.6]"
      ]
     },
     "execution_count": 6,
     "metadata": {},
     "output_type": "execute_result"
    }
   ],
   "source": [
    "products_list = [\n",
    "  'https://www.mercadolivre.com.br/celular-samsung-galaxy-m35-5g-cmera-tripla-ate-50mp-selfie-50mp-tela-super-amoled-66-120hz-256gb-8gb-ram-azul-claro/p/MLB37105949#polycard_client=recommendations_home_navigation-trend-recommendations&reco_backend=machinalis-homes-univb&wid=MLB3709390037&reco_client=home_navigation-trend-recommendations&reco_item_pos=1&reco_backend_type=function&reco_id=9e91bfad-dbf0-44a7-b465-c39b176d5991&sid=recos&c_id=/home/navigation-trend-recommendations/element&c_uid=24e4e06d-e1d8-4d7d-aede-ac6643ea3fb0',\n",
    "  'https://produto.mercadolivre.com.br/MLB-5134246602-fone-xiaomi-redimir-14c-8gb-ram-256gb-rlg-nota-fiscal-_JM#polycard_client=recommendations_home_navigation-related-recommendations&reco_backend=odin-p2p&reco_client=home_navigation-related-recommendations&reco_item_pos=2&reco_backend_type=function&reco_id=02fec6d1-6669-4bc2-89de-cc6ea191c7de&c_id=/home/navigation-related-recommendations/element&c_uid=cde16b83-7c3a-4446-b769-6a5d6c903398',\n",
    "  'https://produto.mercadolivre.com.br/MLB-2098896916-par-alianca-anatmica-prata-4mm-diamantada-de-namoro-anel-_JM#polycard_client=recommendations_home_personalization-fourth-trend-function-recommendations&reco_backend=personalization_fourth_trend&reco_client=home_personalization-fourth-trend-function-recommendations&reco_item_pos=2&reco_backend_type=function&reco_id=787e9397-f6e0-4d6e-a4e8-a64878178342&c_id=/home/fourth-trend-recommendations/element&c_uid=11ae3319-53c8-42dd-bdb0-246b832a72ba'\n",
    "]\n",
    "\n",
    "rating = [ scraper.getRating(url=url) for url in products_list ]\n",
    "rating"
   ]
  },
  {
   "cell_type": "markdown",
   "metadata": {},
   "source": [
    "### **Raspar links de produtos**"
   ]
  },
  {
   "cell_type": "code",
   "execution_count": 7,
   "metadata": {},
   "outputs": [
    {
     "name": "stderr",
     "output_type": "stream",
     "text": [
      "2025-03-16 16:37:16,215 - INFO - Tree da url: https://www.mercadolivre.com.br/mais-vendidos/MLB1144#origin=home - obtido!\n",
      "2025-03-16 16:37:17,063 - INFO - Tree da url: https://www.mercadolivre.com.br/ssd-m2-nvme-40-1tb-kingston-nv3-formato-2280-gen-4x4-ultra-rapido-velocidade-de-leitura-6000mbs-e-gravaco-4000-mbs-cor-azul-escuro/p/MLB39766120#polycard_client=search_best-seller&wid=MLB5273741380&sid=search - obtido!\n",
      "2025-03-16 16:37:18,109 - INFO - Tree da url: https://www.mercadolivre.com.br/ssd-m2-nvme-40-1tb-kingston-nv3-formato-2280-gen-4x4-ultra-rapido-velocidade-de-leitura-6000mbs-e-gravaco-4000-mbs-cor-azul-escuro/p/MLB39766120#polycard_client=search_best-seller&wid=MLB5273741380&sid=search - obtido!\n",
      "2025-03-16 16:37:20,057 - INFO - Tree da url: https://www.mercadolivre.com.br/microfone-hollyland-lark-m2-duo-combo-duplo-para-2-pessoas-cor-preto/p/MLB34016199#polycard_client=search_best-seller&wid=MLB4988379390&sid=search - obtido!\n",
      "2025-03-16 16:37:21,842 - INFO - Tree da url: https://www.mercadolivre.com.br/microfone-hollyland-lark-m2-duo-combo-duplo-para-2-pessoas-cor-preto/p/MLB34016199#polycard_client=search_best-seller&wid=MLB4988379390&sid=search - obtido!\n",
      "2025-03-16 16:37:22,812 - INFO - Tree da url: https://www.mercadolivre.com.br/controle-joystick-sem-fio-sony-playstation-5-dualsense-midnight-black/p/MLB18010993#polycard_client=search_best-seller&wid=MLB3519809401&sid=search - obtido!\n",
      "2025-03-16 16:37:23,689 - INFO - Tree da url: https://www.mercadolivre.com.br/controle-joystick-sem-fio-sony-playstation-5-dualsense-midnight-black/p/MLB18010993#polycard_client=search_best-seller&wid=MLB3519809401&sid=search - obtido!\n",
      "2025-03-16 16:37:24,504 - INFO - Tree da url: https://www.mercadolivre.com.br/console-sony-playstation-5-digital-slim-1tb-branco-jogos-returnal-e-ratchet-clank-controle-sem-fio-dualsense-branco/p/MLB37494438#polycard_client=search_best-seller&wid=MLB5283914980&sid=search - obtido!\n",
      "2025-03-16 16:37:25,196 - INFO - Tree da url: https://www.mercadolivre.com.br/console-sony-playstation-5-digital-slim-1tb-branco-jogos-returnal-e-ratchet-clank-controle-sem-fio-dualsense-branco/p/MLB37494438#polycard_client=search_best-seller&wid=MLB5283914980&sid=search - obtido!\n",
      "2025-03-16 16:37:26,377 - INFO - Tree da url: https://www.mercadolivre.com.br/carto-de-memoria-ultra-sd-64gb-pcmeras-wi-fi/p/MLB15316750#polycard_client=search_best-seller&wid=MLB5318847888&sid=search - obtido!\n",
      "2025-03-16 16:37:28,979 - INFO - Tree da url: https://www.mercadolivre.com.br/carto-de-memoria-ultra-sd-64gb-pcmeras-wi-fi/p/MLB15316750#polycard_client=search_best-seller&wid=MLB5318847888&sid=search - obtido!\n",
      "2025-03-16 16:37:29,995 - INFO - Tree da url: https://www.mercadolivre.com.br/console-playstation-5-midia-fisica-slim-branco-1tb-returnal-e-ratchet-e-clank-controle-sem-fio-dualsense-branco/p/MLB39459985#polycard_client=search_best-seller&wid=MLB3660928281&sid=search - obtido!\n",
      "2025-03-16 16:37:30,714 - INFO - Tree da url: https://www.mercadolivre.com.br/console-playstation-5-midia-fisica-slim-branco-1tb-returnal-e-ratchet-e-clank-controle-sem-fio-dualsense-branco/p/MLB39459985#polycard_client=search_best-seller&wid=MLB3660928281&sid=search - obtido!\n",
      "2025-03-16 16:37:31,921 - INFO - Tree da url: https://www.mercadolivre.com.br/controle-playstation-5-sem-fio-dualsense-ps5-cor-branco/p/MLB16212928#polycard_client=search_best-seller&wid=MLB3983480609&sid=search - obtido!\n",
      "2025-03-16 16:37:32,735 - INFO - Tree da url: https://www.mercadolivre.com.br/controle-playstation-5-sem-fio-dualsense-ps5-cor-branco/p/MLB16212928#polycard_client=search_best-seller&wid=MLB3983480609&sid=search - obtido!\n",
      "2025-03-16 16:37:34,645 - INFO - Tree da url: https://www.mercadolivre.com.br/ssd240gb-adata-3-25-su650-asu650ss-240gt-r-240gb-preto/p/MLB15749699#polycard_client=search_best-seller&wid=MLB3996124411&sid=search - obtido!\n",
      "2025-03-16 16:37:35,543 - INFO - Tree da url: https://www.mercadolivre.com.br/ssd240gb-adata-3-25-su650-asu650ss-240gt-r-240gb-preto/p/MLB15749699#polycard_client=search_best-seller&wid=MLB3996124411&sid=search - obtido!\n",
      "2025-03-16 16:37:36,420 - INFO - Tree da url: https://produto.mercadolivre.com.br/MLB-3675643311-controle-para-xbox-360-com-fio-joystick-tvpcandroid-_JM#polycard_client=search_best-seller&wid=MLB3675643311&sid=search - obtido!\n",
      "2025-03-16 16:37:37,286 - INFO - Tree da url: https://produto.mercadolivre.com.br/MLB-3675643311-controle-para-xbox-360-com-fio-joystick-tvpcandroid-_JM#polycard_client=search_best-seller&wid=MLB3675643311&sid=search - obtido!\n",
      "2025-03-16 16:37:38,147 - INFO - Tree da url: https://www.mercadolivre.com.br/ssd-kingston-480gb-sata-iii-a400-sa400s37480g-preto/p/MLB27966626#polycard_client=search_best-seller&wid=MLB3509953964&sid=search - obtido!\n",
      "2025-03-16 16:37:39,011 - INFO - Tree da url: https://www.mercadolivre.com.br/ssd-kingston-480gb-sata-iii-a400-sa400s37480g-preto/p/MLB27966626#polycard_client=search_best-seller&wid=MLB3509953964&sid=search - obtido!\n",
      "2025-03-16 16:37:40,906 - INFO - Tree da url: https://www.mercadolivre.com.br/carto-de-memoria-32gb-para-cmeras-micro-sd-com-adaptador/p/MLB36811264#polycard_client=search_best-seller&wid=MLB3814147947&sid=search - obtido!\n",
      "2025-03-16 16:37:42,059 - INFO - Tree da url: https://www.mercadolivre.com.br/carto-de-memoria-32gb-para-cmeras-micro-sd-com-adaptador/p/MLB36811264#polycard_client=search_best-seller&wid=MLB3814147947&sid=search - obtido!\n",
      "2025-03-16 16:37:42,817 - INFO - Tree da url: https://produto.mercadolivre.com.br/MLB-4614146964-controle-joystick-bluetooth-manete-sem-fio-para-ps4-pc-tv-_JM#polycard_client=search_best-seller - obtido!\n",
      "2025-03-16 16:37:43,552 - INFO - Tree da url: https://produto.mercadolivre.com.br/MLB-4614146964-controle-joystick-bluetooth-manete-sem-fio-para-ps4-pc-tv-_JM#polycard_client=search_best-seller - obtido!\n",
      "2025-03-16 16:37:44,588 - INFO - Tree da url: https://www.mercadolivre.com.br/controle-fca-compativel-com-ps4-joystick-manete-ps4-pc-cor-preto/p/MLB27058601#polycard_client=search_best-seller&wid=MLB3963970073&sid=search - obtido!\n",
      "2025-03-16 16:37:45,674 - INFO - Tree da url: https://www.mercadolivre.com.br/controle-fca-compativel-com-ps4-joystick-manete-ps4-pc-cor-preto/p/MLB27058601#polycard_client=search_best-seller&wid=MLB3963970073&sid=search - obtido!\n",
      "2025-03-16 16:37:47,016 - INFO - Tree da url: https://www.mercadolivre.com.br/ssd-sata-30-6gbs-960gb-interno-kingston-a400-sa400s37960g-leitura-ate-500mbs-e-gravaco-ate-450mbs-cor-preto/p/MLB26810824#polycard_client=search_best-seller&wid=MLB5318850416&sid=search - obtido!\n",
      "2025-03-16 16:37:48,263 - INFO - Tree da url: https://www.mercadolivre.com.br/ssd-sata-30-6gbs-960gb-interno-kingston-a400-sa400s37960g-leitura-ate-500mbs-e-gravaco-ate-450mbs-cor-preto/p/MLB26810824#polycard_client=search_best-seller&wid=MLB5318850416&sid=search - obtido!\n",
      "2025-03-16 16:37:49,221 - INFO - Tree da url: https://www.mercadolivre.com.br/ssd-sata-30-6gbs-240gb-interno-kingston-a400-sa400s37240g-leitura-ate-500mbs-e-gravaco-ate-350mbs-cor-preto/p/MLB19035706#polycard_client=search_best-seller&wid=MLB2022010844&sid=search - obtido!\n",
      "2025-03-16 16:37:50,157 - INFO - Tree da url: https://www.mercadolivre.com.br/ssd-sata-30-6gbs-240gb-interno-kingston-a400-sa400s37240g-leitura-ate-500mbs-e-gravaco-ate-350mbs-cor-preto/p/MLB19035706#polycard_client=search_best-seller&wid=MLB2022010844&sid=search - obtido!\n",
      "2025-03-16 16:37:51,170 - INFO - Tree da url: https://www.mercadolivre.com.br/kit-2-manete-controle-compativel-sem-fio-ps3-cabo-carregador-bertolinstore/p/MLB20691601#polycard_client=search_best-seller&wid=MLB4924466628&sid=search - obtido!\n",
      "2025-03-16 16:37:52,116 - INFO - Tree da url: https://www.mercadolivre.com.br/kit-2-manete-controle-compativel-sem-fio-ps3-cabo-carregador-bertolinstore/p/MLB20691601#polycard_client=search_best-seller&wid=MLB4924466628&sid=search - obtido!\n",
      "2025-03-16 16:37:53,321 - INFO - Tree da url: https://www.mercadolivre.com.br/ssd-crucial-bx500-240gb-disco-rigido-interno-alta-velocidade-preto-modelo-ct240bx500ssd1/p/MLB18102729#polycard_client=search_best-seller&wid=MLB3824112561&sid=search - obtido!\n",
      "2025-03-16 16:37:54,521 - INFO - Tree da url: https://www.mercadolivre.com.br/ssd-crucial-bx500-240gb-disco-rigido-interno-alta-velocidade-preto-modelo-ct240bx500ssd1/p/MLB18102729#polycard_client=search_best-seller&wid=MLB3824112561&sid=search - obtido!\n",
      "2025-03-16 16:37:55,931 - INFO - Tree da url: https://www.mercadolivre.com.br/controle-joystick-sem-fio-compativel-com-console-pc-tv-cor-preto/p/MLB35975740#polycard_client=search_best-seller&wid=MLB4004007837&sid=search - obtido!\n",
      "2025-03-16 16:37:57,290 - INFO - Tree da url: https://www.mercadolivre.com.br/controle-joystick-sem-fio-compativel-com-console-pc-tv-cor-preto/p/MLB35975740#polycard_client=search_best-seller&wid=MLB4004007837&sid=search - obtido!\n",
      "2025-03-16 16:37:58,782 - INFO - Tree da url: https://www.mercadolivre.com.br/disco-solido-interno-western-digital-wd-green-wds100t3g0a-1tb-verde/p/MLB14661338#polycard_client=search_best-seller&wid=MLB5265008800&sid=search - obtido!\n",
      "2025-03-16 16:37:59,749 - INFO - Tree da url: https://www.mercadolivre.com.br/disco-solido-interno-western-digital-wd-green-wds100t3g0a-1tb-verde/p/MLB14661338#polycard_client=search_best-seller&wid=MLB5265008800&sid=search - obtido!\n"
     ]
    },
    {
     "data": {
      "text/plain": [
       "([402.5,\n",
       "  1139.0,\n",
       "  429.0,\n",
       "  3338.9,\n",
       "  21.0,\n",
       "  3529.0,\n",
       "  403.92,\n",
       "  154.9,\n",
       "  59.9,\n",
       "  229.99,\n",
       "  34.99,\n",
       "  72.52,\n",
       "  53.44,\n",
       "  384.0,\n",
       "  180.0,\n",
       "  69.49,\n",
       "  154.0,\n",
       "  55.33,\n",
       "  379.89],\n",
       " 4.8)"
      ]
     },
     "execution_count": 7,
     "metadata": {},
     "output_type": "execute_result"
    }
   ],
   "source": [
    "urls = [\n",
    "  'https://www.mercadolivre.com.br/mais-vendidos/MLB1144#origin=home',\n",
    "]\n",
    "\n",
    "products_links = [ scraper.scrapeProductsLinks(url) for url in urls ]\n",
    "\n",
    "prices = []\n",
    "ratings = []\n",
    "for links in products_links:\n",
    "  for link in links:\n",
    "    price = scraper.getPrice(url=link)\n",
    "    rating = scraper.getRating(url=link)\n",
    "    prices.append(price)\n",
    "    ratings.append(rating)\n",
    "\n",
    "prices, rating"
   ]
  }
 ],
 "metadata": {
  "kernelspec": {
   "display_name": "Python 3",
   "language": "python",
   "name": "python3"
  },
  "language_info": {
   "codemirror_mode": {
    "name": "ipython",
    "version": 3
   },
   "file_extension": ".py",
   "mimetype": "text/x-python",
   "name": "python",
   "nbconvert_exporter": "python",
   "pygments_lexer": "ipython3",
   "version": "3.13.2"
  }
 },
 "nbformat": 4,
 "nbformat_minor": 2
}
